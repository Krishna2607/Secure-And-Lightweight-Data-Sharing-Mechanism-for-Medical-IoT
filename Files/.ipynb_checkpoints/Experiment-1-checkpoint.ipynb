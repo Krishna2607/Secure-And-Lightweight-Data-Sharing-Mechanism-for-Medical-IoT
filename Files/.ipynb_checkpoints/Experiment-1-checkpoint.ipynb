{
 "cells": [
  {
   "cell_type": "markdown",
   "id": "bc5af19f",
   "metadata": {},
   "source": [
    "# Gateway - No Compression and Encryption"
   ]
  },
  {
   "cell_type": "code",
   "execution_count": 9,
   "id": "e791b4c8",
   "metadata": {},
   "outputs": [
    {
     "name": "stdout",
     "output_type": "stream",
     "text": [
      "0.02724432945251465\n"
     ]
    }
   ],
   "source": [
    "# This file will be used for recieving files over socket connection.\n",
    "import os\n",
    "import socket\n",
    "import time\n",
    "\n",
    "sock = socket.socket(socket.AF_INET, socket.SOCK_STREAM)\n",
    "\n",
    "# Trying to connect to socket.\n",
    "sock.connect((socket.gethostname(), 22222))\n",
    "# Send file details.\n",
    "file_name = sock.recv(100).decode()\n",
    "file_size = sock.recv(100).decode()\n",
    "\n",
    "# Opening and reading file.\n",
    "with open(\"./rec/\" +file_name, \"wb\") as file:\n",
    "    c = 0\n",
    "    # Starting the time capture.\n",
    "    start=time.time()\n",
    "    # Running the loop while file is recieved.\n",
    "    while c <= int(file_size):\n",
    "        data = sock.recv(1024*1024)\n",
    "        file.write(data)\n",
    "        c += len(data)\n",
    "        break\n",
    "\n",
    "    # Ending the time capture.\n",
    "    end=time.time()\n",
    "\n",
    "# Closing the socket.\n",
    "sock.close()\n",
    "print(end-start)\n",
    "import pyAesCrypt\n",
    "import string\n",
    "import secrets\n",
    "import os\n",
    "\n",
    "#File Encryption\n",
    "alphabet = string.ascii_letters + string.digits\n",
    "password = \"krishna\"\n",
    "pyAesCrypt.decryptFile(\"file_compression.aes\", \"retrived_dataset-3.csv\", password)\n",
    "\n"
   ]
  },
  {
   "cell_type": "markdown",
   "id": "827a5290",
   "metadata": {},
   "source": [
    "# Gateway-With Decompression and Decryption"
   ]
  },
  {
   "cell_type": "code",
   "execution_count": 12,
   "id": "1b74ead6",
   "metadata": {},
   "outputs": [
    {
     "name": "stdout",
     "output_type": "stream",
     "text": [
      "Decompressing Decrypted.jpg\n",
      "Decompressing Medicine.jpg\n",
      "Decompressing PIL_Compressed_Medicine.jpg\n"
     ]
    }
   ],
   "source": [
    "import os\n",
    "import socket\n",
    "import time\n",
    "\n",
    "sock = socket.socket(socket.AF_INET, socket.SOCK_STREAM)\n",
    "\n",
    "# Trying to connect to socket.\n",
    "sock.connect((socket.gethostname(), 2222))\n",
    "# Send file details.\n",
    "file_name = sock.recv(100).decode()\n",
    "file_size = sock.recv(100).decode()\n",
    "\n",
    "# Opening and reading file.\n",
    "with open(\"./rec/\" +file_name, \"wb\") as file:\n",
    "    c = 0\n",
    "    # Starting the time capture.\n",
    "    start=time.time()\n",
    "    # Running the loop while file is recieved.\n",
    "    while c <= int(file_size):\n",
    "        data = sock.recv(1024*1024)\n",
    "        file.write(data)\n",
    "        c += len(data)\n",
    "        break\n",
    "\n",
    "    # Ending the time capture.\n",
    "    end=time.time()\n",
    "\n",
    "# Closing the socket.\n",
    "sock.close()\n",
    "import os\n",
    "import sys\n",
    "from PIL import Image\n",
    "import pyAesCrypt\n",
    "import string\n",
    "import secrets\n",
    "import os\n",
    "password = \"krishna\"\n",
    "pyAesCrypt.decryptFile(\"file_compression_2253.aes\", \"Decrypted.jpg\", password)\n",
    "\n",
    "import os\n",
    "import sys\n",
    "from PIL import Image\n",
    "  \n",
    "\n",
    "def decompressMe(file, verbose = False):\n",
    "    \n",
    "    filepath = os.path.join(os.getcwd(),file)\n",
    "    picture = Image.open(filepath)\n",
    "    picture.save(\"PIL_Decompressed_\"+file, optimize = True, quality = 97)\n",
    "    return\n",
    "  \n",
    "def main():\n",
    "    verbose = False\n",
    "    if (len(sys.argv)>1):\n",
    "        if (sys.argv[1].lower()==\"-v\"):\n",
    "            verbose = True\n",
    "                      \n",
    "    cwd = os.getcwd()\n",
    "    formats = ('.jpg', '.jpeg','.png')\n",
    "\n",
    "    for file in os.listdir(cwd):        \n",
    "        if os.path.splitext(file)[1].lower() in formats:\n",
    "            print('Decompressing', file)\n",
    "            decompressMe(file, verbose)\n",
    "main()\n",
    "\n"
   ]
  }
 ],
 "metadata": {
  "kernelspec": {
   "display_name": "Python 3 (ipykernel)",
   "language": "python",
   "name": "python3"
  },
  "language_info": {
   "codemirror_mode": {
    "name": "ipython",
    "version": 3
   },
   "file_extension": ".py",
   "mimetype": "text/x-python",
   "name": "python",
   "nbconvert_exporter": "python",
   "pygments_lexer": "ipython3",
   "version": "3.9.7"
  }
 },
 "nbformat": 4,
 "nbformat_minor": 5
}
