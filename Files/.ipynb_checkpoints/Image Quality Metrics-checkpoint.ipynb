{
 "cells": [
  {
   "cell_type": "code",
   "execution_count": null,
   "id": "8d0af5d3",
   "metadata": {},
   "outputs": [],
   "source": [
    "pip install opencv-python"
   ]
  },
  {
   "cell_type": "code",
   "execution_count": null,
   "id": "64ec33c0",
   "metadata": {},
   "outputs": [],
   "source": [
    "pip install sewar"
   ]
  },
  {
   "cell_type": "code",
   "execution_count": 7,
   "id": "cf199716",
   "metadata": {},
   "outputs": [
    {
     "name": "stdout",
     "output_type": "stream",
     "text": [
      "Collecting pyssim\n",
      "  Downloading pyssim-0.4.tar.gz (5.2 kB)\n",
      "Requirement already satisfied: numpy in c:\\users\\user\\anaconda3\\lib\\site-packages (from pyssim) (1.20.3)\n",
      "Requirement already satisfied: pillow in c:\\users\\user\\anaconda3\\lib\\site-packages (from pyssim) (8.4.0)\n",
      "Requirement already satisfied: scipy in c:\\users\\user\\anaconda3\\lib\\site-packages (from pyssim) (1.7.1)\n",
      "Building wheels for collected packages: pyssim\n",
      "  Building wheel for pyssim (setup.py): started\n",
      "  Building wheel for pyssim (setup.py): finished with status 'done'\n",
      "  Created wheel for pyssim: filename=pyssim-0.4-py2.py3-none-any.whl size=5813 sha256=9bcb838672b588dfb6f42bac43e261272eadb5b08f7134fbf5cefc6db2d553c7\n",
      "  Stored in directory: c:\\users\\user\\appdata\\local\\pip\\cache\\wheels\\c6\\b3\\d4\\673c01a7181dea4342112e6dbf090b63c5e8128a14ab2ec49b\n",
      "Successfully built pyssim\n",
      "Installing collected packages: pyssim\n",
      "Successfully installed pyssim-0.4\n",
      "Note: you may need to restart the kernel to use updated packages.\n"
     ]
    }
   ],
   "source": [
    "pip install pyssim"
   ]
  },
  {
   "cell_type": "code",
   "execution_count": 1,
   "id": "8e3e3bba",
   "metadata": {},
   "outputs": [
    {
     "name": "stdout",
     "output_type": "stream",
     "text": [
      "Collecting SSIM-PIL\n",
      "  Downloading SSIM_PIL-1.0.13-py3-none-any.whl (8.4 kB)\n",
      "Installing collected packages: SSIM-PIL\n",
      "Successfully installed SSIM-PIL-1.0.13\n",
      "Note: you may need to restart the kernel to use updated packages.\n"
     ]
    }
   ],
   "source": [
    "pip install SSIM-PIL"
   ]
  },
  {
   "cell_type": "markdown",
   "id": "7daa0c74",
   "metadata": {},
   "source": [
    "# PSNR-PIL"
   ]
  },
  {
   "cell_type": "code",
   "execution_count": 14,
   "id": "967e3ed4",
   "metadata": {},
   "outputs": [
    {
     "name": "stdout",
     "output_type": "stream",
     "text": [
      "36.46071704811465\n"
     ]
    }
   ],
   "source": [
    "from math import log10, sqrt\n",
    "import cv2\n",
    "import numpy as np\n",
    "\n",
    "def PSNR(original, compressed):\n",
    "    mse = np.mean((original - compressed) ** 2)\n",
    "    if(mse == 0): \n",
    "        return 100\n",
    "    max_pixel = 255.0\n",
    "    psnr = 20 * log10(max_pixel / sqrt(mse))\n",
    "    return psnr\n",
    "\n",
    "def main():\n",
    "    original = cv2.imread(\"Medicine.jpg\")\n",
    "    compressed = cv2.imread(\"PIL_Compressed_Medicine.jpg\", 1)\n",
    "    value = PSNR(original, compressed)\n",
    "    print(value)\n",
    "if __name__ == \"__main__\":\n",
    "    main()\n"
   ]
  },
  {
   "cell_type": "markdown",
   "id": "d2ab4be9",
   "metadata": {},
   "source": [
    "# PSNR-OPENCV"
   ]
  },
  {
   "cell_type": "code",
   "execution_count": 15,
   "id": "6177b542",
   "metadata": {},
   "outputs": [
    {
     "name": "stdout",
     "output_type": "stream",
     "text": [
      "36.410639503594886\n"
     ]
    }
   ],
   "source": [
    "from math import log10, sqrt\n",
    "import cv2\n",
    "import numpy as np\n",
    "\n",
    "def PSNR(original, compressed):\n",
    "    mse = np.mean((original - compressed) ** 2)\n",
    "    if(mse == 0): \n",
    "        return 100\n",
    "    max_pixel = 255.0\n",
    "    psnr = 20 * log10(max_pixel / sqrt(mse))\n",
    "    return psnr\n",
    "\n",
    "def main():\n",
    "    original = cv2.imread(\"Medicine.jpg\")\n",
    "    compressed = cv2.imread(\"OpenCV_compressed Medicine.jpg\", 1)\n",
    "    value = PSNR(original, compressed)\n",
    "    print(value)\n",
    "if __name__ == \"__main__\":\n",
    "    main()\n"
   ]
  },
  {
   "cell_type": "markdown",
   "id": "8ec8b8cd",
   "metadata": {},
   "source": [
    "# MSE-PIL"
   ]
  },
  {
   "cell_type": "code",
   "execution_count": 16,
   "id": "90999c63",
   "metadata": {},
   "outputs": [
    {
     "name": "stdout",
     "output_type": "stream",
     "text": [
      "20.43225825825826\n"
     ]
    }
   ],
   "source": [
    "from sewar.full_ref import mse\n",
    "from math import log10, sqrt\n",
    "import cv2\n",
    "import numpy as np\n",
    "original = cv2.imread(\"Medicine.jpg\")\n",
    "compressed = cv2.imread(\"PIL_Compressed_Medicine.jpg\", 1)\n",
    "print(mse(original,compressed))"
   ]
  },
  {
   "cell_type": "markdown",
   "id": "053e2b2b",
   "metadata": {},
   "source": [
    "# MSE-OPENCV"
   ]
  },
  {
   "cell_type": "code",
   "execution_count": 17,
   "id": "35d3401a",
   "metadata": {},
   "outputs": [
    {
     "name": "stdout",
     "output_type": "stream",
     "text": [
      "20.65387187187187\n"
     ]
    }
   ],
   "source": [
    "from sewar.full_ref import mse\n",
    "from math import log10, sqrt\n",
    "import cv2\n",
    "import numpy as np\n",
    "original = cv2.imread(\"Medicine.jpg\")\n",
    "compressed = cv2.imread(\"OpenCV_compressed Medicine.jpg\", 1)\n",
    "print(mse(original,compressed))"
   ]
  },
  {
   "cell_type": "markdown",
   "id": "1192ba13",
   "metadata": {},
   "source": [
    "# RMSE-PIL"
   ]
  },
  {
   "cell_type": "code",
   "execution_count": 18,
   "id": "0be206c9",
   "metadata": {},
   "outputs": [
    {
     "name": "stdout",
     "output_type": "stream",
     "text": [
      "4.52020555486786\n"
     ]
    }
   ],
   "source": [
    "from sewar.full_ref import rmse\n",
    "from math import log10, sqrt\n",
    "import cv2\n",
    "import numpy as np\n",
    "original = cv2.imread(\"Medicine.jpg\")\n",
    "compressed = cv2.imread(\"PIL_Compressed_Medicine.jpg\", 1)\n",
    "print(rmse(original,compressed))"
   ]
  },
  {
   "cell_type": "markdown",
   "id": "95a2acba",
   "metadata": {},
   "source": [
    "# RMSE-OPENCV"
   ]
  },
  {
   "cell_type": "code",
   "execution_count": 19,
   "id": "6f5c593b",
   "metadata": {},
   "outputs": [
    {
     "name": "stdout",
     "output_type": "stream",
     "text": [
      "4.544653107979956\n"
     ]
    }
   ],
   "source": [
    "from sewar.full_ref import rmse\n",
    "from math import log10, sqrt\n",
    "import cv2\n",
    "import numpy as np\n",
    "original = cv2.imread(\"Medicine.jpg\")\n",
    "compressed = cv2.imread(\"OpenCV_compressed Medicine.jpg\", 1)\n",
    "print(rmse(original,compressed))"
   ]
  },
  {
   "cell_type": "markdown",
   "id": "42b0e09c",
   "metadata": {},
   "source": [
    "# SSIM-PIL"
   ]
  },
  {
   "cell_type": "code",
   "execution_count": 20,
   "id": "933baca6",
   "metadata": {},
   "outputs": [
    {
     "name": "stdout",
     "output_type": "stream",
     "text": [
      "0.9494908678921035\n"
     ]
    }
   ],
   "source": [
    "from SSIM_PIL import compare_ssim\n",
    "from PIL import Image\n",
    "\n",
    "image1 = Image.open('C:\\\\Users\\\\user\\\\Desktop\\\\Capstone\\\\Files\\\\Medicine.jpg')\n",
    "image2 = Image.open('C:\\\\Users\\\\user\\\\Desktop\\\\Capstone\\\\Files\\\\PIL_Compressed_Medicine.jpg')\n",
    "value = compare_ssim(image1, image2, GPU=False) \n",
    "print(value)"
   ]
  },
  {
   "cell_type": "markdown",
   "id": "8cf44864",
   "metadata": {},
   "source": [
    "# SSIM-OPENCV"
   ]
  },
  {
   "cell_type": "code",
   "execution_count": 21,
   "id": "03f434ec",
   "metadata": {},
   "outputs": [
    {
     "name": "stdout",
     "output_type": "stream",
     "text": [
      "0.9492930010436884\n"
     ]
    }
   ],
   "source": [
    "from SSIM_PIL import compare_ssim\n",
    "from PIL import Image\n",
    "\n",
    "image1 = Image.open('C:\\\\Users\\\\user\\\\Desktop\\\\Capstone\\\\Files\\\\Medicine.jpg')\n",
    "image2 = Image.open('C:\\\\Users\\\\user\\\\Desktop\\\\Capstone\\\\Files\\\\OpenCV_compressed Medicine.jpg')\n",
    "value = compare_ssim(image1, image2, GPU=False) \n",
    "print(value)"
   ]
  },
  {
   "cell_type": "code",
   "execution_count": 5,
   "id": "ff7d2b85",
   "metadata": {},
   "outputs": [
    {
     "name": "stdout",
     "output_type": "stream",
     "text": [
      "11436\n"
     ]
    }
   ],
   "source": [
    "import os\n",
    "pid = os.getpid()\n",
    "print(pid)\n"
   ]
  }
 ],
 "metadata": {
  "kernelspec": {
   "display_name": "Python 3 (ipykernel)",
   "language": "python",
   "name": "python3"
  },
  "language_info": {
   "codemirror_mode": {
    "name": "ipython",
    "version": 3
   },
   "file_extension": ".py",
   "mimetype": "text/x-python",
   "name": "python",
   "nbconvert_exporter": "python",
   "pygments_lexer": "ipython3",
   "version": "3.9.7"
  }
 },
 "nbformat": 4,
 "nbformat_minor": 5
}
