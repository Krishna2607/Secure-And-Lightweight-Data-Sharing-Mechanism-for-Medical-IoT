{
 "cells": [
  {
   "cell_type": "markdown",
   "id": "b639778e",
   "metadata": {},
   "source": [
    "# Device- No Compression and Encryption"
   ]
  },
  {
   "cell_type": "code",
   "execution_count": 9,
   "id": "9da5f5cf",
   "metadata": {},
   "outputs": [
    {
     "name": "stdout",
     "output_type": "stream",
     "text": [
      "0.0009646415710449219\n"
     ]
    }
   ],
   "source": [
    "import pyAesCrypt\n",
    "import string\n",
    "import secrets\n",
    "import os\n",
    "\n",
    "#File Encryption\n",
    "alphabet = string.ascii_letters + string.digits\n",
    "password = \"krishna\"\n",
    "pyAesCrypt.encryptFile(\"dataset-3.csv\", \"file_compression.aes\", password)\n",
    "\n",
    "# This file is used for sending the file over socket\n",
    "import os\n",
    "import socket\n",
    "import time\n",
    "\n",
    "# Creating a socket.\n",
    "sock = socket.socket(socket.AF_INET, socket.SOCK_STREAM)\n",
    "sock.bind((socket.gethostname(), 22222))\n",
    "sock.listen(5)\n",
    "# Accepting the connection.\n",
    "client, addr = sock.accept()\n",
    "\n",
    "# Getting file details.\n",
    "file_name = \"file_compression.aes\"\n",
    "file_size = os.path.getsize(file_name)\n",
    "\n",
    "# Sending file_name and detail.\n",
    "client.send(file_name.encode())\n",
    "client.send(str(file_size).encode())\n",
    "\n",
    "# Opening file and sending data.\n",
    "with open(file_name, \"rb\") as file:\n",
    "    c = 0\n",
    "    # Starting the time capture.\n",
    "    start=time.time()\n",
    "\n",
    "    # Running loop while c != file_size.\n",
    "    while c <= file_size:\n",
    "        data = file.read(1024*1024)\n",
    "        if not (data):\n",
    "            break\n",
    "        client.sendall(data)\n",
    "        c += len(data)\n",
    "\n",
    "    # Ending the time capture.\n",
    "    end=time.time()\n",
    "sock.close()\n",
    "print(end-start)"
   ]
  },
  {
   "cell_type": "markdown",
   "id": "61c73b7d",
   "metadata": {},
   "source": [
    "# Device- With Compression and Encryption"
   ]
  },
  {
   "cell_type": "code",
   "execution_count": 12,
   "id": "3fa99882",
   "metadata": {},
   "outputs": [
    {
     "name": "stdout",
     "output_type": "stream",
     "text": [
      "compressing Medicine.jpg\n",
      "0.0010247230529785156\n"
     ]
    }
   ],
   "source": [
    "import os\n",
    "import sys\n",
    "from PIL import Image\n",
    "import pyAesCrypt\n",
    "import string\n",
    "import secrets\n",
    "import os\n",
    "  \n",
    "\n",
    "def compressMe(file, verbose = False):\n",
    "    \n",
    "    filepath = os.path.join(os.getcwd(),file)\n",
    "    picture = Image.open(filepath)\n",
    "    picture.save(\"PIL_Compressed_\"+file, optimize = True, quality = 50)\n",
    "    return\n",
    "  \n",
    "def main():\n",
    "    verbose = False\n",
    "    if (len(sys.argv)>1):\n",
    "        if (sys.argv[1].lower()==\"-v\"):\n",
    "            verbose = True\n",
    "                      \n",
    "    cwd = os.getcwd()\n",
    "    formats = ('.jpg', '.jpeg','.png')\n",
    "\n",
    "    for file in os.listdir(cwd):        \n",
    "        if os.path.splitext(file)[1].lower() in formats:\n",
    "            print('compressing', file)\n",
    "            compressMe(file, verbose)\n",
    "\n",
    "main()\n",
    "password = \"krishna\"\n",
    "pyAesCrypt.encryptFile(\"PIL_Compressed_Medicine.jpg\", \"file_compression_2253.aes\", password)\n",
    "\n",
    "# This file is used for sending the file over socket\n",
    "import os\n",
    "import socket\n",
    "import time\n",
    "\n",
    "# Creating a socket.\n",
    "sock = socket.socket(socket.AF_INET, socket.SOCK_STREAM)\n",
    "sock.bind((socket.gethostname(), 2222))\n",
    "sock.listen(5)\n",
    "\n",
    "# Accepting the connection.\n",
    "client, addr = sock.accept()\n",
    "\n",
    "# Getting file details.\n",
    "file_name = \"file_compression_2253.aes\"\n",
    "file_size = os.path.getsize(file_name)\n",
    "\n",
    "# Sending file_name and detail.\n",
    "client.send(file_name.encode())\n",
    "client.send(str(file_size).encode())\n",
    "\n",
    "# Opening file and sending data.\n",
    "with open(file_name, \"rb\") as file:\n",
    "    c = 0\n",
    "    # Starting the time capture.\n",
    "    start=time.time()\n",
    "\n",
    "    # Running loop while c != file_size.\n",
    "    while c <= file_size:\n",
    "        data = file.read(1024*1024)\n",
    "        if not (data):\n",
    "            break\n",
    "        client.sendall(data)\n",
    "        c += len(data)\n",
    "    end=time.time()\n",
    "# Cloasing the socket.\n",
    "sock.close()\n",
    "print(end-start)\n",
    "\n",
    "\n",
    "\n",
    "\n"
   ]
  },
  {
   "cell_type": "code",
   "execution_count": null,
   "id": "0f6f6570",
   "metadata": {},
   "outputs": [],
   "source": [
    "import os\n",
    "print(os.getpid())"
   ]
  },
  {
   "cell_type": "code",
   "execution_count": null,
   "id": "c7288ded",
   "metadata": {},
   "outputs": [],
   "source": [
    "import sys\n",
    "s=\"a\"\n",
    "print(len(s))\n",
    "print(len(s.encode('utf-8')))\n",
    "print(sys.getsizeof(s))"
   ]
  },
  {
   "cell_type": "code",
   "execution_count": null,
   "id": "c02ce2f4",
   "metadata": {},
   "outputs": [],
   "source": [
    "import statistics\n",
    "print(statistics.pstdev([1.109521132,1.106706352,1.134334555,1.133709908,1.144431133,1.127318382,1.135522842,1.133318186,1.120784521,1.133387089]))"
   ]
  }
 ],
 "metadata": {
  "kernelspec": {
   "display_name": "Python 3 (ipykernel)",
   "language": "python",
   "name": "python3"
  },
  "language_info": {
   "codemirror_mode": {
    "name": "ipython",
    "version": 3
   },
   "file_extension": ".py",
   "mimetype": "text/x-python",
   "name": "python",
   "nbconvert_exporter": "python",
   "pygments_lexer": "ipython3",
   "version": "3.9.7"
  }
 },
 "nbformat": 4,
 "nbformat_minor": 5
}
